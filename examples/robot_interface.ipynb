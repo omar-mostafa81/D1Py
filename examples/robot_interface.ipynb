{
 "cells": [
  {
   "cell_type": "code",
   "execution_count": 1,
   "id": "7dd7206f",
   "metadata": {},
   "outputs": [],
   "source": [
    "from d1py.interface import D1Arm\n",
    "import time\n",
    "robot = D1Arm()"
   ]
  },
  {
   "cell_type": "code",
   "execution_count": 5,
   "id": "d6d059d9",
   "metadata": {},
   "outputs": [
    {
     "name": "stdout",
     "output_type": "stream",
     "text": [
      "{'servo0_data': -79.0, 'servo1_data': 4.800000190734863, 'servo2_data': 46.400001525878906, 'servo3_data': -5.699999809265137, 'servo4_data': -10.399999618530273, 'servo5_data': 0.0, 'servo6_data': 0.0}\n"
     ]
    }
   ],
   "source": [
    "joint_state = robot.get_joint_state()\n",
    "print(joint_state)\n"
   ]
  },
  {
   "cell_type": "code",
   "execution_count": 6,
   "id": "15d01ab1",
   "metadata": {},
   "outputs": [
    {
     "name": "stdout",
     "output_type": "stream",
     "text": [
      "{'enable_status': 1, 'power_status': 0, 'error_status': 0}\n"
     ]
    }
   ],
   "source": [
    "arm_state = robot.get_arm_status_feedback()\n",
    "print(arm_state)\n"
   ]
  },
  {
   "cell_type": "code",
   "execution_count": 7,
   "id": "e88c7040",
   "metadata": {},
   "outputs": [
    {
     "name": "stdout",
     "output_type": "stream",
     "text": [
      "Force discharge command sent for all joints with mode 0\n",
      "Waiting for command reception...\n",
      "Command received\n",
      "Waiting for command execution...\n",
      "Command executed\n"
     ]
    }
   ],
   "source": [
    "robot.set_ServoDamping_all(0)\n",
    "print(\"Waiting for command reception...\")\n",
    "robot.recv_status_event.wait(timeout=2)\n",
    "print(\"Command received\")\n",
    "\n",
    "print(\"Waiting for command execution...\")\n",
    "robot.exec_status_event.wait(timeout=2)\n",
    "print(\"Command executed\")"
   ]
  },
  {
   "cell_type": "code",
   "execution_count": 12,
   "id": "63836c49",
   "metadata": {},
   "outputs": [
    {
     "name": "stdout",
     "output_type": "stream",
     "text": [
      "Force discharge command sent for joint 4 with mode 1000\n",
      "Set joint command sent for joint 4.\n",
      "Waiting for command reception...\n",
      "Command received\n",
      "Waiting for command execution...\n",
      "Command executed\n",
      "Force discharge command sent for joint 4 with mode 0\n",
      "Waiting for command reception...\n",
      "Command received\n",
      "Waiting for command execution...\n",
      "Command executed\n"
     ]
    }
   ],
   "source": [
    "#### Range of joints \n",
    "# J0: ±135°\n",
    "# J1: ±90°\n",
    "# J2: ±90°\n",
    "# J3: ±135°\n",
    "# J4: ±90°\n",
    "# J5: ± 135 °\n",
    "# Claw stroke: 0-65mm\n",
    "\n",
    "# Joint\n",
    "id = 4\n",
    "robot.set_ServoDamping_joint(id,1000)\n",
    "\n",
    "# Set joint 1 to 0 with 0 delay\n",
    "robot.set_joint(id, 0, 0)\n",
    "print(\"Waiting for command reception...\")\n",
    "robot.recv_status_event.wait(timeout=2)\n",
    "print(\"Command received\")\n",
    "\n",
    "print(\"Waiting for command execution...\")\n",
    "robot.exec_status_event.wait(timeout=2)\n",
    "print(\"Command executed\")\n",
    "\n",
    "# Release force if needed\n",
    "robot.set_ServoDamping_joint(id,0)\n",
    "print(\"Waiting for command reception...\")\n",
    "robot.recv_status_event.wait(timeout=2)\n",
    "print(\"Command received\")\n",
    "\n",
    "print(\"Waiting for command execution...\")\n",
    "robot.exec_status_event.wait(timeout=2)\n",
    "print(\"Command executed\")"
   ]
  },
  {
   "cell_type": "code",
   "execution_count": 11,
   "id": "6ca311e1",
   "metadata": {},
   "outputs": [
    {
     "name": "stdout",
     "output_type": "stream",
     "text": [
      "{'arm_status': {'enable_status': 0, 'power_status': 0, 'error_status': 0}, 'recv_status': {'recv_status': 1}, 'exec_status': {'exec_status': 1}}\n"
     ]
    }
   ],
   "source": [
    "print(robot.get_combined_arm_feedback())"
   ]
  },
  {
   "cell_type": "code",
   "execution_count": null,
   "id": "bbacfd2c",
   "metadata": {},
   "outputs": [],
   "source": []
  }
 ],
 "metadata": {
  "kernelspec": {
   "display_name": "d1py",
   "language": "python",
   "name": "python3"
  },
  "language_info": {
   "codemirror_mode": {
    "name": "ipython",
    "version": 3
   },
   "file_extension": ".py",
   "mimetype": "text/x-python",
   "name": "python",
   "nbconvert_exporter": "python",
   "pygments_lexer": "ipython3",
   "version": "3.8.20"
  }
 },
 "nbformat": 4,
 "nbformat_minor": 5
}
