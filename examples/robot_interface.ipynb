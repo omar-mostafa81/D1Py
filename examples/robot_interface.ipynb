{
 "cells": [
  {
   "cell_type": "code",
   "execution_count": 5,
   "id": "7dd7206f",
   "metadata": {},
   "outputs": [],
   "source": [
    "from d1py.interface import D1Arm\n",
    "robot = D1Arm"
   ]
  },
  {
   "cell_type": "code",
   "execution_count": null,
   "id": "d6d059d9",
   "metadata": {},
   "outputs": [
    {
     "name": "stdout",
     "output_type": "stream",
     "text": [
      "{\"seq\":4}\n"
     ]
    }
   ],
   "source": [
    "print(f'{{\"seq\":4}}')\n",
    "for i in range(7) {\n",
    "    print i\n",
    "}"
   ]
  }
 ],
 "metadata": {
  "kernelspec": {
   "display_name": "d1py",
   "language": "python",
   "name": "python3"
  },
  "language_info": {
   "codemirror_mode": {
    "name": "ipython",
    "version": 3
   },
   "file_extension": ".py",
   "mimetype": "text/x-python",
   "name": "python",
   "nbconvert_exporter": "python",
   "pygments_lexer": "ipython3",
   "version": "3.8.20"
  }
 },
 "nbformat": 4,
 "nbformat_minor": 5
}
